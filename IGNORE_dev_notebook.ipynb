{
 "cells": [
  {
   "cell_type": "code",
   "execution_count": null,
   "id": "94ba0921",
   "metadata": {},
   "outputs": [],
   "source": [
    "from queens.etl.process import ingest_tables, stage_data, get_data_info\n",
    "from queens.etl.bootstrap import initialize\n",
    "from queens import settings as s\n",
    "\n",
    "initialize(db_path=s.DB_PATH, schema=s.SCHEMA)\n",
    "ingest_tables(\"dukes\", [\"1.1\", \"6.1\"])   # or any small pair you trust\n",
    "stage_data(\"dukes\")\n",
    "\n",
    "info_df = get_data_info(\"dukes\", \"6.1\")\n",
    "info_df.head()\n"
   ]
  },
  {
   "cell_type": "code",
   "execution_count": null,
   "id": "0ea4046c",
   "metadata": {},
   "outputs": [],
   "source": []
  },
  {
   "cell_type": "code",
   "execution_count": null,
   "id": "ad6415bc",
   "metadata": {
    "scrolled": true
   },
   "outputs": [],
   "source": [
    "import subprocess\n",
    "import sys\n",
    "\n",
    "# Path to your FastAPI app (adjust as needed)\n",
    "app_path = \"queens.api.app:app\"  # module:variable\n",
    "\n",
    "# Start Uvicorn in the background, listening on all interfaces\n",
    "process = subprocess.Popen(\n",
    "    [\n",
    "        sys.executable, \"-m\", \"uvicorn\",\n",
    "        app_path,\n",
    "        \"--host\", \"127.0.0.1\",\n",
    "        \"--port\", \"8000\",\n",
    "        \"--reload\"\n",
    "    ],\n",
    "    stdout=subprocess.PIPE,\n",
    "    stderr=subprocess.STDOUT,\n",
    "    universal_newlines=True\n",
    ")\n",
    "\n",
    "print(f\"Uvicorn started with PID {process.pid}\")\n",
    "print(\"Visit http://127.0.0.1:8000/docs to explore the API.\")\n"
   ]
  },
  {
   "cell_type": "code",
   "execution_count": null,
   "id": "41e7b273",
   "metadata": {},
   "outputs": [],
   "source": [
    "import queens.settings as s\n",
    "\n",
    "p = s.LOG_DIR / \"queens_logs.log\"\n",
    "p"
   ]
  },
  {
   "cell_type": "code",
   "execution_count": null,
   "id": "95a2fb36",
   "metadata": {},
   "outputs": [],
   "source": []
  },
  {
   "cell_type": "code",
   "execution_count": null,
   "id": "7c3502c3",
   "metadata": {},
   "outputs": [],
   "source": [
    "import requests\n",
    "import json\n",
    "\n",
    "# Your API endpoint (adjust port if needed)\n",
    "base_url = \"http://127.0.0.1:8000/data/dukes\"\n",
    "\n",
    "# Query parameters\n",
    "\n",
    "filters = {\n",
    "    \"year\": {\"gte\": 2014}\n",
    "}\n",
    "\n",
    "params = {\n",
    "    \"table_name\": \"1.1\",\n",
    "    # Example filters: adjust as needed\n",
    "    \"filters\": json.dumps(filters) \n",
    "}\n",
    "\n",
    "# Make the GET request\n",
    "response = requests.get(base_url, params=params)\n",
    "\n",
    "# Check if request succeeded\n",
    "#response.raise_for_status()\n",
    "\n",
    "\n"
   ]
  },
  {
   "cell_type": "code",
   "execution_count": null,
   "id": "11650cc6",
   "metadata": {},
   "outputs": [],
   "source": [
    "from queens import settings as s\n",
    "#s.set_config(db_path=\"C:/Users/Alessandro/Desktop/queens/queens.db\", \n",
    "#             export_path=\"C:/Users/Alessandro/Desktop/queens/exports/\")\n",
    "print(s.DB_PATH, s.EXPORT_DIR)\n"
   ]
  },
  {
   "cell_type": "code",
   "execution_count": 3,
   "id": "aeea6598",
   "metadata": {},
   "outputs": [
    {
     "data": {
      "text/plain": [
       "WindowsPath('C:/Users/Alessandro/AppData/Local/queens/queens/logs')"
      ]
     },
     "execution_count": 3,
     "metadata": {},
     "output_type": "execute_result"
    }
   ],
   "source": [
    "import queens.settings as s\n",
    "s.LOG_DIR"
   ]
  },
  {
   "cell_type": "code",
   "execution_count": 5,
   "id": "6a747669",
   "metadata": {},
   "outputs": [
    {
     "ename": "TypeError",
     "evalue": "list.remove() takes exactly one argument (2 given)",
     "output_type": "error",
     "traceback": [
      "\u001b[1;31m---------------------------------------------------------------------------\u001b[0m",
      "\u001b[1;31mTypeError\u001b[0m                                 Traceback (most recent call last)",
      "\u001b[1;32m~\\AppData\\Local\\Temp\\ipykernel_17932\\2461021152.py\u001b[0m in \u001b[0;36m<module>\u001b[1;34m\u001b[0m\n\u001b[0;32m      1\u001b[0m \u001b[0mx\u001b[0m \u001b[1;33m=\u001b[0m \u001b[1;33m[\u001b[0m\u001b[1;36m1\u001b[0m\u001b[1;33m,\u001b[0m\u001b[1;36m2\u001b[0m\u001b[1;33m,\u001b[0m\u001b[1;36m3\u001b[0m\u001b[1;33m,\u001b[0m\u001b[1;36m4\u001b[0m\u001b[1;33m]\u001b[0m\u001b[1;33m\u001b[0m\u001b[1;33m\u001b[0m\u001b[0m\n\u001b[1;32m----> 2\u001b[1;33m \u001b[0mx\u001b[0m\u001b[1;33m.\u001b[0m\u001b[0mremove\u001b[0m\u001b[1;33m(\u001b[0m\u001b[1;36m2\u001b[0m\u001b[1;33m,\u001b[0m\u001b[1;36m3\u001b[0m\u001b[1;33m)\u001b[0m\u001b[1;33m\u001b[0m\u001b[1;33m\u001b[0m\u001b[0m\n\u001b[0m\u001b[0;32m      3\u001b[0m \u001b[0mx\u001b[0m\u001b[1;33m\u001b[0m\u001b[1;33m\u001b[0m\u001b[0m\n",
      "\u001b[1;31mTypeError\u001b[0m: list.remove() takes exactly one argument (2 given)"
     ]
    }
   ],
   "source": []
  },
  {
   "cell_type": "code",
   "execution_count": null,
   "id": "ab3a0f90",
   "metadata": {},
   "outputs": [],
   "source": []
  },
  {
   "cell_type": "code",
   "execution_count": null,
   "id": "d3a1d6de",
   "metadata": {},
   "outputs": [],
   "source": [
    "from queens.api.app import get_data\n",
    "\n",
    "dd = get_data(collection=\"dukes\", table_name=\"2.7\", filters=None, limit=1000, cursor=None)"
   ]
  },
  {
   "cell_type": "code",
   "execution_count": null,
   "id": "5ace30bd",
   "metadata": {},
   "outputs": [],
   "source": []
  },
  {
   "cell_type": "code",
   "execution_count": null,
   "id": "a746cd7c",
   "metadata": {},
   "outputs": [],
   "source": [
    "import json, requests\n",
    "\n",
    "BASE = \"http://127.0.0.1:8000\"\n",
    "COLL = \"dukes\"\n",
    "TABLE = \"1.1\"\n",
    "\n",
    "# Page 1\n",
    "curs = None\n",
    "page = 1\n",
    "while True:\n",
    "    r = requests.get(f\"{BASE}/data/{COLL}\", params={\"table_name\": TABLE, \"limit\": 5000, \"cursor\": curs})\n",
    "    r.raise_for_status()\n",
    "    p = r.json()\n",
    "    print(f\"Page {page}: len=\", len(p.get(\"data\", [])), \"next_cursor=\", p.get(\"next_cursor\"))\n",
    "    curs = p.get(\"next_cursor\")\n",
    "    page = page  + 1\n",
    "    if curs is None:\n",
    "        break\n"
   ]
  },
  {
   "cell_type": "code",
   "execution_count": null,
   "id": "7f08dddf",
   "metadata": {},
   "outputs": [],
   "source": []
  },
  {
   "cell_type": "code",
   "execution_count": null,
   "id": "d1967f93",
   "metadata": {},
   "outputs": [],
   "source": []
  }
 ],
 "metadata": {
  "kernelspec": {
   "display_name": "Python 3 (ipykernel)",
   "language": "python",
   "name": "python3"
  },
  "language_info": {
   "codemirror_mode": {
    "name": "ipython",
    "version": 3
   },
   "file_extension": ".py",
   "mimetype": "text/x-python",
   "name": "python",
   "nbconvert_exporter": "python",
   "pygments_lexer": "ipython3",
   "version": "3.9.13"
  }
 },
 "nbformat": 4,
 "nbformat_minor": 5
}
